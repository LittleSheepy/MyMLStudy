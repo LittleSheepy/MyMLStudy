{
 "cells": [
  {
   "cell_type": "code",
   "execution_count": 1,
   "metadata": {},
   "outputs": [],
   "source": [
    "import tensorflow as tf\n",
    "flags = tf.flags #flags是一个文件：flags.py，用于处理命令行参数的解析工作\n",
    "logging = tf.logging"
   ]
  },
  {
   "cell_type": "code",
   "execution_count": 2,
   "metadata": {},
   "outputs": [],
   "source": [
    "#调用flags内部的DEFINE_string函数来制定解析规则\n",
    "flags.DEFINE_string(\"para_name_1\",\"default_val\", \"description\")\n",
    "flags.DEFINE_bool(\"para_name_2\",\"False\", \"description\")"
   ]
  },
  {
   "cell_type": "code",
   "execution_count": 11,
   "metadata": {},
   "outputs": [
    {
     "name": "stdout",
     "output_type": "stream",
     "text": [
      "default_val False\n"
     ]
    }
   ],
   "source": [
    "#FLAGS是一个对象，保存了解析后的命令行参数\n",
    "FLAGS = flags.FLAGS\n",
    "print(FLAGS.para_name_1,FLAGS.para_name_2) #调用命令行输入的参数"
   ]
  },
  {
   "cell_type": "code",
   "execution_count": null,
   "metadata": {},
   "outputs": [],
   "source": []
  }
 ],
 "metadata": {
  "kernelspec": {
   "display_name": "Python 3",
   "language": "python",
   "name": "python3"
  },
  "language_info": {
   "codemirror_mode": {
    "name": "ipython",
    "version": 3
   },
   "file_extension": ".py",
   "mimetype": "text/x-python",
   "name": "python",
   "nbconvert_exporter": "python",
   "pygments_lexer": "ipython3",
   "version": "3.7.1"
  }
 },
 "nbformat": 4,
 "nbformat_minor": 2
}
