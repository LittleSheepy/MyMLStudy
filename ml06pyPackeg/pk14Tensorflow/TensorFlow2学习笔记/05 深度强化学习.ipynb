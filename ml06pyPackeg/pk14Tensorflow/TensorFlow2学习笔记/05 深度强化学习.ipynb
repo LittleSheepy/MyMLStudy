{
 "cells": [
  {
   "cell_type": "code",
   "execution_count": 1,
   "metadata": {},
   "outputs": [],
   "source": [
    "import tensorflow as tf\n",
    "import numpy as np\n",
    "import gym\n",
    "import random\n",
    "from collections import deque\n",
    "\n",
    "num_episodes = 500              # 游戏训练的总episode数量\n",
    "num_exploration_episodes = 100  # 探索过程所占的episode数量\n",
    "max_len_episode = 1000          # 每个episode的最大回合数\n",
    "batch_size = 32                 # 批次大小\n",
    "learning_rate = 1e-3            # 学习率\n",
    "gamma = 1.                      # 折扣因子\n",
    "initial_epsilon = 1.            # 探索起始时的探索率\n",
    "final_epsilon = 0.01            # 探索终止时的探索率"
   ]
  },
  {
   "cell_type": "code",
   "execution_count": 2,
   "metadata": {},
   "outputs": [],
   "source": [
    "class QNetwork(tf.keras.Model):\n",
    "    def __init__(self):\n",
    "        super().__init__()\n",
    "        self.dense1 = tf.keras.layers.Dense(units=24, activation=tf.nn.relu)\n",
    "        self.dense2 = tf.keras.layers.Dense(units=24, activation=tf.nn.relu)\n",
    "        self.dense3 = tf.keras.layers.Dense(units=2)\n",
    "\n",
    "    def call(self, inputs):\n",
    "        x = self.dense1(inputs)\n",
    "        x = self.dense2(x)\n",
    "        x = self.dense3(x)\n",
    "        return x\n",
    "\n",
    "    def predict(self, inputs):\n",
    "        q_values = self(inputs)\n",
    "        return tf.argmax(q_values, axis=-1)"
   ]
  },
  {
   "cell_type": "code",
   "execution_count": null,
   "metadata": {},
   "outputs": [],
   "source": [
    "if __name__ == '__main__':\n",
    "    env = gym.make('CartPole-v1')       # 实例化一个游戏环境，参数为游戏名称\n",
    "    model = QNetwork()\n",
    "    optimizer = tf.keras.optimizers.Adam(learning_rate=learning_rate)\n",
    "    replay_buffer = deque(maxlen=10000) # 使用一个 deque 作为 Q Learning 的经验回放池\n",
    "    epsilon = initial_epsilon\n",
    "    for episode_id in range(num_episodes):\n",
    "        state = env.reset()             # 初始化环境，获得初始状态\n",
    "        epsilon = max(                  # 计算当前探索率\n",
    "            initial_epsilon * (num_exploration_episodes - episode_id) / num_exploration_episodes,\n",
    "            final_epsilon)\n",
    "        for t in range(max_len_episode):\n",
    "            env.render()                                # 对当前帧进行渲染，绘图到屏幕\n",
    "            if random.random() < epsilon:               # epsilon-greedy 探索策略，以 epsilon 的概率选择随机动作\n",
    "                action = env.action_space.sample()      # 选择随机动作（探索）\n",
    "            else:\n",
    "                action = model.predict(np.expand_dims(state, axis=0)).numpy()   # 选择模型计算出的 Q Value 最大的动作\n",
    "                action = action[0]\n",
    "\n",
    "            # 让环境执行动作，获得执行完动作的下一个状态，动作的奖励，游戏是否已结束以及额外信息\n",
    "            next_state, reward, done, info = env.step(action)\n",
    "            # 如果游戏Game Over，给予大的负奖励\n",
    "            reward = -10. if done else reward\n",
    "            # 将(state, action, reward, next_state)的四元组（外加 done 标签表示是否结束）放入经验回放池\n",
    "            replay_buffer.append((state, action, reward, next_state, 1 if done else 0))\n",
    "            # 更新当前 state\n",
    "            state = next_state\n",
    "\n",
    "            if done:                                    # 游戏结束则退出本轮循环，进行下一个 episode\n",
    "                print(\"episode %d, epsilon %f, score %d\" % (episode_id, epsilon, t))\n",
    "                break\n",
    "\n",
    "            if len(replay_buffer) >= batch_size:\n",
    "                # 从经验回放池中随机取一个批次的四元组，并分别转换为 NumPy 数组\n",
    "                batch_state, batch_action, batch_reward, batch_next_state, batch_done = zip(\n",
    "                    *random.sample(replay_buffer, batch_size))\n",
    "                batch_state, batch_reward, batch_next_state, batch_done = \\\n",
    "                    [np.array(a, dtype=np.float32) for a in [batch_state, batch_reward, batch_next_state, batch_done]]\n",
    "                batch_action = np.array(batch_action, dtype=np.int32)\n",
    "\n",
    "                q_value = model(batch_next_state)\n",
    "                y = batch_reward + (gamma * tf.reduce_max(q_value, axis=1)) * (1 - batch_done)  # 计算 y 值\n",
    "                with tf.GradientTape() as tape:\n",
    "                    loss = tf.keras.losses.mean_squared_error(  # 最小化 y 和 Q-value 的距离\n",
    "                        y_true=y,\n",
    "                        y_pred=tf.reduce_sum(model(batch_state) * tf.one_hot(batch_action, depth=2), axis=1)\n",
    "                    )\n",
    "                grads = tape.gradient(loss, model.variables)\n",
    "                optimizer.apply_gradients(grads_and_vars=zip(grads, model.variables))       # 计算梯度并更新参数"
   ]
  },
  {
   "cell_type": "code",
   "execution_count": null,
   "metadata": {},
   "outputs": [],
   "source": []
  }
 ],
 "metadata": {
  "kernelspec": {
   "display_name": "Python 3",
   "language": "python",
   "name": "python3"
  },
  "language_info": {
   "codemirror_mode": {
    "name": "ipython",
    "version": 3
   },
   "file_extension": ".py",
   "mimetype": "text/x-python",
   "name": "python",
   "nbconvert_exporter": "python",
   "pygments_lexer": "ipython3",
   "version": "3.7.3"
  }
 },
 "nbformat": 4,
 "nbformat_minor": 2
}
