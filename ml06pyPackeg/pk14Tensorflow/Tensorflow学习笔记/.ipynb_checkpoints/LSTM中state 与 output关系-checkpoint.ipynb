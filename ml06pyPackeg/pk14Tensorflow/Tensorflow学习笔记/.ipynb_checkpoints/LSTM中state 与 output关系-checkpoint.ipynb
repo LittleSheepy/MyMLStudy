{
 "cells": [
  {
   "cell_type": "code",
   "execution_count": 1,
   "metadata": {},
   "outputs": [],
   "source": [
    "import tensorflow as tf\n",
    "import numpy as np"
   ]
  },
  {
   "cell_type": "code",
   "execution_count": 2,
   "metadata": {},
   "outputs": [],
   "source": [
    "def get_a_cell():\n",
    "    return tf.nn.rnn_cell.BasicLSTMCell(num_units=2) #也可以换成别的，比如GRUCell，BasicRNNCell等等"
   ]
  },
  {
   "cell_type": "code",
   "execution_count": 3,
   "metadata": {},
   "outputs": [],
   "source": [
    "# X = tf.random_normal(shape=[4, 5, 6], dtype=tf.float32)\n",
    "# X = tf.reshape(X, [-1, 5, 6])\n",
    "X = np.array([[[1,2,3,4,6],\n",
    "         [0,1,2,3,8],\n",
    "         [3,6,8,1,2],\n",
    "         [2,3,6,4,1]],\n",
    "        [[2,3,5,6,8],\n",
    "         [3,4,5,1,7],\n",
    "         [6,5,9,0,2],\n",
    "         [2,3,4,6,1]],\n",
    "        [[2,3,5,1,6],\n",
    "         [3,5,2,4,7],\n",
    "         [4,5,2,4,1],\n",
    "         [3,4,3,2,6]]])\n",
    "X = tf.to_float(X)"
   ]
  },
  {
   "cell_type": "code",
   "execution_count": 4,
   "metadata": {},
   "outputs": [],
   "source": [
    "stacked_lstm = tf.nn.rnn_cell.MultiRNNCell([get_a_cell() for _ in range(1)], state_is_tuple=True)\n",
    "# initial_state = stacked_lstm.zero_state(5, tf.float32)\n",
    "# output, state = tf.nn.dynamic_rnn(stacked_lstm, X, initial_state=initial_state, time_major=True)\n",
    "output, state = tf.nn.dynamic_rnn(stacked_lstm, X, time_major=False, dtype=tf.float32)\n",
    " \n",
    "last = output[:, -1, :]  # 取最后一个时序输出作为结果\n",
    "# fc_dense = tf.layers.dense(last, 10, name='fc1')\n",
    "# fc_drop = tf.contrib.layers.dropout(fc_dense, 0.8)\n",
    "# fc1 = tf.nn.relu(fc_drop) "
   ]
  },
  {
   "cell_type": "code",
   "execution_count": 9,
   "metadata": {},
   "outputs": [],
   "source": [
    "sess = tf.Session()\n",
    "sess.run(tf.global_variables_initializer())"
   ]
  },
  {
   "cell_type": "markdown",
   "metadata": {},
   "source": [
    "## output最后一个时序输出 和state[0].h 是结果"
   ]
  },
  {
   "cell_type": "code",
   "execution_count": 7,
   "metadata": {},
   "outputs": [
    {
     "name": "stdout",
     "output_type": "stream",
     "text": [
      "[[-0.4251304  -0.00751075]\n",
      " [-0.15904029 -0.01598916]\n",
      " [-0.18002327 -0.01930042]]\n"
     ]
    }
   ],
   "source": [
    "print (sess.run(last))"
   ]
  },
  {
   "cell_type": "code",
   "execution_count": 8,
   "metadata": {},
   "outputs": [
    {
     "name": "stdout",
     "output_type": "stream",
     "text": [
      "[[-0.4251304  -0.00751075]\n",
      " [-0.15904029 -0.01598916]\n",
      " [-0.18002327 -0.01930042]]\n"
     ]
    }
   ],
   "source": [
    "print (sess.run(state[0].h))"
   ]
  },
  {
   "cell_type": "code",
   "execution_count": 20,
   "metadata": {},
   "outputs": [
    {
     "name": "stdout",
     "output_type": "stream",
     "text": [
      "[ 0.1792395  -0.01265771]\n"
     ]
    }
   ],
   "source": [
    "print (sess.run(output[1][-1]))"
   ]
  },
  {
   "cell_type": "code",
   "execution_count": 17,
   "metadata": {},
   "outputs": [
    {
     "name": "stdout",
     "output_type": "stream",
     "text": [
      "[[-0.01365419  0.01248136]\n",
      " [ 0.1792395  -0.01265771]\n",
      " [-0.490202   -0.00281831]]\n"
     ]
    }
   ],
   "source": [
    "print (sess.run(state[0].h))"
   ]
  },
  {
   "cell_type": "code",
   "execution_count": 16,
   "metadata": {},
   "outputs": [
    {
     "name": "stdout",
     "output_type": "stream",
     "text": [
      "LSTMStateTuple(c=array([[-0.01477565,  0.24421738],\n",
      "       [ 0.20515919, -0.26140386],\n",
      "       [-0.87732   , -0.00855409]], dtype=float32), h=array([[-0.01365419,  0.01248136],\n",
      "       [ 0.1792395 , -0.01265771],\n",
      "       [-0.490202  , -0.00281831]], dtype=float32))\n"
     ]
    }
   ],
   "source": [
    "print (sess.run(state[0]))"
   ]
  },
  {
   "cell_type": "code",
   "execution_count": 13,
   "metadata": {},
   "outputs": [
    {
     "name": "stdout",
     "output_type": "stream",
     "text": [
      "(LSTMStateTuple(c=array([[-0.01477565,  0.24421738],\n",
      "       [ 0.20515919, -0.26140386],\n",
      "       [-0.87732   , -0.00855409]], dtype=float32), h=array([[-0.01365419,  0.01248136],\n",
      "       [ 0.1792395 , -0.01265771],\n",
      "       [-0.490202  , -0.00281831]], dtype=float32)),)\n"
     ]
    }
   ],
   "source": [
    "print (sess.run(state))"
   ]
  },
  {
   "cell_type": "code",
   "execution_count": 14,
   "metadata": {},
   "outputs": [
    {
     "name": "stdout",
     "output_type": "stream",
     "text": [
      "[[-0.01365419  0.01248136]\n",
      " [ 0.1792395  -0.01265771]\n",
      " [-0.490202   -0.00281831]]\n"
     ]
    }
   ],
   "source": []
  },
  {
   "cell_type": "code",
   "execution_count": null,
   "metadata": {},
   "outputs": [],
   "source": []
  }
 ],
 "metadata": {
  "kernelspec": {
   "display_name": "Python 3",
   "language": "python",
   "name": "python3"
  },
  "language_info": {
   "codemirror_mode": {
    "name": "ipython",
    "version": 3
   },
   "file_extension": ".py",
   "mimetype": "text/x-python",
   "name": "python",
   "nbconvert_exporter": "python",
   "pygments_lexer": "ipython3",
   "version": "3.7.1"
  }
 },
 "nbformat": 4,
 "nbformat_minor": 2
}
