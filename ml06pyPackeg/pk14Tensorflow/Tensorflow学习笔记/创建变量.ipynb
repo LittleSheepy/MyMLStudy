{
 "cells": [
  {
   "cell_type": "markdown",
   "metadata": {},
   "source": [
    "# constant（常量） 、 placeholder（占位符） 和 Variable（变量） 创建变量"
   ]
  },
  {
   "cell_type": "markdown",
   "metadata": {},
   "source": [
    "### 创建常量 constant\n",
    "cons = tf.constant(value=[1,2],dtype=tf.float32,shape=(1,2),name='testconst', verify_shape=False)\n",
    "\n",
    "参数说明\n",
    "\n",
    "value：初始值，必填，必须是一个张量（1或[1,2,3]或[[1,2,3],[2,2,3]]或......）\n",
    "\n",
    "dtype：数据类型，选填，默认为value的数据类型，传入参数为tensorflow下的枚举值（float32，float64.......）\n",
    "\n",
    "shape：数据形状，选填，默认为value的shape，设置时不得比value小，可以比value阶数、维度更高，超过部分按value提供最后一个数字填充，示例代码如下\n",
    "import tensorflow as tf sess = tf.InteractiveSession() cons1 = tf.constant([1, 2, 3], shape=[2, 3]) print(sess.run(cons1)) # [[1 2 3] # [3 3 3]]\n",
    "\n",
    "name：常量名，选填，默认值不重复，根据创建顺序为（Const，Const_1，Const_2.......）\n",
    "\n",
    "verify_shape:是否验证value的shape和指定shape相符，若设为True则进行验证，不相符时会抛出异常"
   ]
  },
  {
   "cell_type": "code",
   "execution_count": 8,
   "metadata": {},
   "outputs": [],
   "source": [
    "from IPython.core.interactiveshell import InteractiveShell\n",
    "InteractiveShell.ast_node_interactivity = \"all\""
   ]
  },
  {
   "cell_type": "code",
   "execution_count": 7,
   "metadata": {},
   "outputs": [
    {
     "data": {
      "text/plain": [
       "array([[1, 2, 3],\n",
       "       [3, 3, 3]])"
      ]
     },
     "execution_count": 7,
     "metadata": {},
     "output_type": "execute_result"
    }
   ],
   "source": [
    "# 创建常量 constant\n",
    "import tensorflow as tf\n",
    "import numpy as np\n",
    "sess = tf.InteractiveSession()\n",
    "cons1 = tf.constant([1, 2, 3], shape=[2, 3])\n",
    "cons = sess.run(cons1)\n",
    "cons\n",
    "sess.close()"
   ]
  },
  {
   "cell_type": "markdown",
   "metadata": {},
   "source": [
    "### 创建placeholder\n",
    "由用户在调用run方法是传递的"
   ]
  },
  {
   "cell_type": "code",
   "execution_count": 14,
   "metadata": {},
   "outputs": [
    {
     "name": "stdout",
     "output_type": "stream",
     "text": [
      "[[1. 1.]\n",
      " [2. 2.]]\n"
     ]
    }
   ],
   "source": [
    "import tensorflow as tf\n",
    "sess = tf.InteractiveSession()\n",
    "node1 = tf.placeholder(tf.float32)\n",
    "print(session.run(node1, {node1: [[1,1],[2,2]]})) \n",
    "sess.close()"
   ]
  },
  {
   "cell_type": "code",
   "execution_count": 8,
   "metadata": {},
   "outputs": [
    {
     "name": "stdout",
     "output_type": "stream",
     "text": [
      "[[0.26149654 0.05547553 0.35598323 0.27485234 0.04351413]\n",
      " [0.22806273 0.16663952 0.77902454 0.35342765 0.36422953]\n",
      " [0.26100877 0.63822806 0.07183609 0.12153833 0.50882787]\n",
      " [0.15247513 0.3454592  0.63598984 0.31918025 0.19980562]]\n",
      "[[0.04870867 0.01796897 0.03634148]\n",
      " [0.08579964 0.13499868 0.0015769 ]]\n"
     ]
    }
   ],
   "source": [
    "import tensorflow as tf\n",
    "import numpy.random as random\n",
    "#占位符shape不设时会按传入参数自行匹配 \n",
    "node1 = tf.placeholder(tf.float32) \n",
    "# , shape=[4, 5]) \n",
    "node2 = tf.placeholder(tf.float32) \n",
    "# , shape=[4, 5]) \n",
    "op = tf.multiply(node1, node2) \n",
    "session = tf.Session() \n",
    "const1 = tf.constant(random.rand(4, 5)) \n",
    "const2 = tf.constant(random.rand(4, 5)) \n",
    "#可以传入初始化后的常量 \n",
    "print(session.run(op, {node1: session.run(const1), node2: session.run(const2)})) \n",
    "#也可以直接传入张量，其实同初始化后的常量一致 \n",
    "print(session.run(op, {node1: random.rand(2, 3), node2: random.rand(2, 3)}))"
   ]
  },
  {
   "cell_type": "markdown",
   "metadata": {},
   "source": [
    "### 创建Variable（变量）"
   ]
  },
  {
   "cell_type": "code",
   "execution_count": 12,
   "metadata": {},
   "outputs": [
    {
     "data": {
      "text/plain": [
       "array([1, 2, 3])"
      ]
     },
     "execution_count": 12,
     "metadata": {},
     "output_type": "execute_result"
    }
   ],
   "source": [
    "import tensorflow as tf\n",
    "v = tf.Variable([1,2,3])   #创建变量v，为一个array\n",
    "with tf.Session() as sess:\n",
    "    sess.run(v.initializer)     #运行变量的initializer。调用op之前，所有变量都应被显式地初始化过。\n",
    "    sess.run(v)     #查看v的值，结果是：array([1, 2, 3])"
   ]
  },
  {
   "cell_type": "code",
   "execution_count": null,
   "metadata": {},
   "outputs": [],
   "source": [
    "import tensorflow as tf\n",
    "v = tf.Variable([1,2,3])   #创建变量v，为一个array\n",
    "z = tf.Variable(tf.zeros([20]))\n",
    "print(v)  #查看v的shape，不是v的值。结果是： <tf.Variable 'Variable:0' shape=(3,) dtype=int32_ref>\n",
    "with tf.Session() as sess:\n",
    "    sess.run(tf.global_variables_initializer())\n",
    "    #sess.run(v.initializer)     #运行变量的initializer。调用op之前，所有变量都应被显式地初始化过。\n",
    "    sess.run(v)     #查看v的值，结果是：array([1, 2, 3])\n",
    "    sess.run(z)     #查看v的值，结果是：array([1, 2, 3])"
   ]
  },
  {
   "cell_type": "code",
   "execution_count": null,
   "metadata": {},
   "outputs": [],
   "source": []
  }
 ],
 "metadata": {
  "kernelspec": {
   "display_name": "Python 3",
   "language": "python",
   "name": "python3"
  },
  "language_info": {
   "codemirror_mode": {
    "name": "ipython",
    "version": 3
   },
   "file_extension": ".py",
   "mimetype": "text/x-python",
   "name": "python",
   "nbconvert_exporter": "python",
   "pygments_lexer": "ipython3",
   "version": "3.7.1"
  }
 },
 "nbformat": 4,
 "nbformat_minor": 2
}
