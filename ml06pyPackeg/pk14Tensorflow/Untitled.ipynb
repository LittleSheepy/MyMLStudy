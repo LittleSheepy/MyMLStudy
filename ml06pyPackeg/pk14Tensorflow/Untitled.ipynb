{
 "cells": [
  {
   "cell_type": "code",
   "execution_count": 1,
   "metadata": {},
   "outputs": [
    {
     "name": "stdout",
     "output_type": "stream",
     "text": [
      "0 [-0.42696896] [0.79475147]\n",
      "20 [-0.04287648] [0.37552834]\n",
      "40 [0.0668764] [0.31751004]\n",
      "60 [0.09232084] [0.30405942]\n",
      "80 [0.09821971] [0.3009411]\n",
      "100 [0.09958728] [0.3002182]\n",
      "120 [0.09990432] [0.3000506]\n",
      "140 [0.09997783] [0.30001172]\n",
      "160 [0.09999488] [0.30000272]\n",
      "180 [0.09999881] [0.30000064]\n",
      "200 [0.09999973] [0.30000016]\n"
     ]
    }
   ],
   "source": [
    "# View more python tutorial on my Youtube and Youku channel!!!\n",
    "\n",
    "# Youtube video tutorial: https://www.youtube.com/channel/UCdyjiB5H8Pu7aDTNVXTTpcg\n",
    "# Youku video tutorial: http://i.youku.com/pythontutorial\n",
    "\n",
    "\"\"\"\n",
    "Please note, this code is only for python 3+. If you are using python 2+, please modify the code accordingly.\n",
    "\"\"\"\n",
    "from __future__ import print_function\n",
    "import tensorflow as tf\n",
    "import numpy as np\n",
    "\n",
    "# create data\n",
    "x_data = np.random.rand(100).astype(np.float32)\n",
    "y_data = x_data*0.1 + 0.3\n",
    "\n",
    "### create tensorflow structure start ###\n",
    "Weights = tf.Variable(tf.random_uniform([1], -1.0, 1.0))\n",
    "biases = tf.Variable(tf.zeros([1]))\n",
    "\n",
    "y = Weights*x_data + biases\n",
    "\n",
    "loss = tf.reduce_mean(tf.square(y-y_data))\n",
    "optimizer = tf.train.GradientDescentOptimizer(0.5)\n",
    "train = optimizer.minimize(loss)\n",
    "### create tensorflow structure end ###\n",
    "\n",
    "sess = tf.Session()\n",
    "# tf.initialize_all_variables() no long valid from\n",
    "# 2017-03-02 if using tensorflow >= 0.12\n",
    "if int((tf.__version__).split('.')[1]) < 12 and int((tf.__version__).split('.')[0]) < 1:\n",
    "    init = tf.initialize_all_variables()\n",
    "else:\n",
    "    init = tf.global_variables_initializer()\n",
    "sess.run(init)\n",
    "\n",
    "for step in range(201):\n",
    "    sess.run(train)\n",
    "    if step % 20 == 0:\n",
    "        print(step, sess.run(Weights), sess.run(biases))\n"
   ]
  },
  {
   "cell_type": "code",
   "execution_count": 2,
   "metadata": {},
   "outputs": [],
   "source": [
    "from __future__ import print_function\n",
    "import tensorflow as tf\n",
    "import numpy as np"
   ]
  },
  {
   "cell_type": "code",
   "execution_count": 3,
   "metadata": {},
   "outputs": [
    {
     "data": {
      "text/plain": [
       "(array([0.81224483, 0.42708477, 0.83834505, 0.9317951 , 0.91285247,\n",
       "        0.37181503, 0.93898565, 0.194127  , 0.15268332, 0.96177244,\n",
       "        0.93924326, 0.15401384, 0.35665402, 0.0255239 , 0.69109255,\n",
       "        0.45906606, 0.21801051, 0.6035064 , 0.9732676 , 0.60666764,\n",
       "        0.78137225, 0.97228837, 0.3029317 , 0.5165729 , 0.6152322 ,\n",
       "        0.24110079, 0.63841426, 0.948593  , 0.2486588 , 0.83213335,\n",
       "        0.04532861, 0.15297797, 0.77130777, 0.13729109, 0.22206241,\n",
       "        0.9593985 , 0.16618949, 0.21638869, 0.54337263, 0.45816383,\n",
       "        0.41391194, 0.46426523, 0.34253177, 0.02327067, 0.9575116 ,\n",
       "        0.64632595, 0.04741186, 0.37239474, 0.15092719, 0.16180304,\n",
       "        0.45744693, 0.9974758 , 0.87906295, 0.01528208, 0.00776593,\n",
       "        0.49146774, 0.95157266, 0.25776237, 0.6260331 , 0.0377874 ,\n",
       "        0.38966587, 0.8787448 , 0.18295348, 0.7297678 , 0.34409878,\n",
       "        0.99689806, 0.49201635, 0.586548  , 0.17329109, 0.13587785,\n",
       "        0.26288736, 0.5547519 , 0.9466985 , 0.9959835 , 0.8480117 ,\n",
       "        0.53148216, 0.37858552, 0.14758557, 0.5526987 , 0.8339526 ,\n",
       "        0.67677057, 0.62460333, 0.10560406, 0.9295983 , 0.95179343,\n",
       "        0.4061458 , 0.97308844, 0.50122595, 0.3575142 , 0.33127227,\n",
       "        0.7701525 , 0.31263238, 0.07484011, 0.07444804, 0.9418324 ,\n",
       "        0.60500675, 0.69982445, 0.4664117 , 0.664354  , 0.45425537],\n",
       "       dtype=float32),\n",
       " array([0.3812245 , 0.3427085 , 0.3838345 , 0.39317954, 0.39128527,\n",
       "        0.3371815 , 0.39389858, 0.3194127 , 0.31526834, 0.39617726,\n",
       "        0.39392436, 0.3154014 , 0.3356654 , 0.3025524 , 0.36910927,\n",
       "        0.34590662, 0.32180107, 0.36035064, 0.39732677, 0.36066678,\n",
       "        0.37813723, 0.39722884, 0.33029318, 0.3516573 , 0.36152324,\n",
       "        0.3241101 , 0.36384144, 0.3948593 , 0.32486588, 0.38321334,\n",
       "        0.3045329 , 0.3152978 , 0.3771308 , 0.3137291 , 0.32220626,\n",
       "        0.39593986, 0.31661895, 0.32163888, 0.35433728, 0.3458164 ,\n",
       "        0.3413912 , 0.34642655, 0.3342532 , 0.30232707, 0.39575118,\n",
       "        0.3646326 , 0.3047412 , 0.33723947, 0.31509274, 0.31618032,\n",
       "        0.3457447 , 0.3997476 , 0.3879063 , 0.30152822, 0.3007766 ,\n",
       "        0.34914678, 0.39515728, 0.32577625, 0.36260334, 0.30377874,\n",
       "        0.3389666 , 0.38787448, 0.31829536, 0.37297678, 0.3344099 ,\n",
       "        0.39968982, 0.34920165, 0.3586548 , 0.3173291 , 0.31358778,\n",
       "        0.32628876, 0.3554752 , 0.39466986, 0.39959836, 0.38480118,\n",
       "        0.35314822, 0.33785856, 0.31475857, 0.35526988, 0.38339528,\n",
       "        0.36767706, 0.36246035, 0.3105604 , 0.39295983, 0.39517936,\n",
       "        0.3406146 , 0.39730886, 0.3501226 , 0.33575144, 0.33312723,\n",
       "        0.37701526, 0.33126324, 0.30748403, 0.3074448 , 0.39418325,\n",
       "        0.3605007 , 0.36998245, 0.34664118, 0.3664354 , 0.34542555],\n",
       "       dtype=float32))"
      ]
     },
     "execution_count": 3,
     "metadata": {},
     "output_type": "execute_result"
    }
   ],
   "source": [
    "x_data = np.random.rand(100).astype(np.float32)\n",
    "y_data = x_data*0.1 + 0.3\n",
    "x_data,y_data"
   ]
  },
  {
   "cell_type": "code",
   "execution_count": 6,
   "metadata": {},
   "outputs": [
    {
     "data": {
      "text/plain": [
       "(<tf.Variable 'Variable_6:0' shape=(1,) dtype=float32_ref>,\n",
       " <tf.Variable 'Variable_7:0' shape=(1,) dtype=float32_ref>)"
      ]
     },
     "execution_count": 6,
     "metadata": {},
     "output_type": "execute_result"
    }
   ],
   "source": [
    "### create tensorflow structure start ###\n",
    "Weights = tf.Variable(tf.random_uniform([1], -1.0, 1.0))\n",
    "biases = tf.Variable(tf.zeros([1]))\n",
    "\n",
    "y = Weights*x_data + biases\n",
    "\n",
    "loss = tf.reduce_mean(tf.square(y-y_data))\n",
    "optimizer = tf.train.GradientDescentOptimizer(0.5)\n",
    "train = optimizer.minimize(loss)\n",
    "### create tensorflow structure end ###\n",
    "Weights,biases"
   ]
  },
  {
   "cell_type": "code",
   "execution_count": 12,
   "metadata": {},
   "outputs": [
    {
     "name": "stdout",
     "output_type": "stream",
     "text": [
      "0 [0.6661605] [-0.03200981]\n",
      "20 [0.22205149] [0.2320564]\n",
      "40 [0.12598313] [0.28553572]\n",
      "60 [0.10553146] [0.29692075]\n",
      "80 [0.10117758] [0.29934448]\n",
      "100 [0.10025069] [0.29986045]\n",
      "120 [0.10005338] [0.2999703]\n",
      "140 [0.10001136] [0.2999937]\n",
      "160 [0.10000243] [0.29999867]\n",
      "180 [0.10000051] [0.2999997]\n",
      "200 [0.10000011] [0.29999995]\n"
     ]
    }
   ],
   "source": [
    "sess = tf.Session()\n",
    "init = tf.global_variables_initializer()\n",
    "sess.run(init)\n",
    "\n",
    "for step in range(201):\n",
    "    sess.run(train)\n",
    "    if step % 20 == 0:\n",
    "        print(step, sess.run(Weights), sess.run(biases))"
   ]
  }
 ],
 "metadata": {
  "kernelspec": {
   "display_name": "Python 3",
   "language": "python",
   "name": "python3"
  },
  "language_info": {
   "codemirror_mode": {
    "name": "ipython",
    "version": 3
   },
   "file_extension": ".py",
   "mimetype": "text/x-python",
   "name": "python",
   "nbconvert_exporter": "python",
   "pygments_lexer": "ipython3",
   "version": "3.7.0"
  }
 },
 "nbformat": 4,
 "nbformat_minor": 2
}
