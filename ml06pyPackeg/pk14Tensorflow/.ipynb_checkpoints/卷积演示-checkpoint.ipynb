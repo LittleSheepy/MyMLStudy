{
 "cells": [
  {
   "cell_type": "code",
   "execution_count": null,
   "metadata": {},
   "outputs": [],
   "source": [
    "import tensorflow as tf\n",
    "import numpy as np\n",
    "import matplotlib.pyplot as plt "
   ]
  },
  {
   "cell_type": "code",
   "execution_count": null,
   "metadata": {},
   "outputs": [],
   "source": [
    "# TensorFlow 的图像表示为 [图像数目，长，宽，色彩通道数] 的四维张量\n",
    "# 这里我们的输入图像 image 的张量形状为 [1, 7, 7, 1]\n",
    "image = np.array([[\n",
    "    [0, 0, 0, 0, 0, 0, 0],\n",
    "    [0, 1, 0, 1, 2, 1, 0],\n",
    "    [0, 0, 2, 2, 0, 1, 0],\n",
    "    [0, 1, 1, 0, 2, 1, 0],\n",
    "    [0, 0, 2, 1, 1, 0, 0],\n",
    "    [0, 2, 1, 1, 2, 0, 0],\n",
    "    [0, 0, 0, 0, 0, 0, 0]\n",
    "]], dtype=np.float32)\n",
    "image = np.expand_dims(image, axis=-1)  \n",
    "W = np.array([[\n",
    "    [ 0, 0, -1], \n",
    "    [ 0, 1, 0 ], \n",
    "    [-2, 0, 2 ]\n",
    "]], dtype=np.float32)\n",
    "b = np.array([1], dtype=np.float32)"
   ]
  },
  {
   "cell_type": "code",
   "execution_count": null,
   "metadata": {},
   "outputs": [],
   "source": []
  },
  {
   "cell_type": "code",
   "execution_count": null,
   "metadata": {},
   "outputs": [],
   "source": []
  },
  {
   "cell_type": "code",
   "execution_count": null,
   "metadata": {},
   "outputs": [],
   "source": []
  },
  {
   "cell_type": "code",
   "execution_count": null,
   "metadata": {},
   "outputs": [],
   "source": []
  },
  {
   "cell_type": "code",
   "execution_count": null,
   "metadata": {},
   "outputs": [],
   "source": []
  },
  {
   "cell_type": "code",
   "execution_count": null,
   "metadata": {},
   "outputs": [],
   "source": []
  },
  {
   "cell_type": "code",
   "execution_count": null,
   "metadata": {},
   "outputs": [],
   "source": []
  },
  {
   "cell_type": "code",
   "execution_count": null,
   "metadata": {},
   "outputs": [],
   "source": []
  },
  {
   "cell_type": "code",
   "execution_count": null,
   "metadata": {},
   "outputs": [],
   "source": []
  }
 ],
 "metadata": {
  "kernelspec": {
   "display_name": "Python 3",
   "language": "python",
   "name": "python3"
  },
  "language_info": {
   "codemirror_mode": {
    "name": "ipython",
    "version": 3
   },
   "file_extension": ".py",
   "mimetype": "text/x-python",
   "name": "python",
   "nbconvert_exporter": "python",
   "pygments_lexer": "ipython3",
   "version": "3.7.3"
  }
 },
 "nbformat": 4,
 "nbformat_minor": 2
}
