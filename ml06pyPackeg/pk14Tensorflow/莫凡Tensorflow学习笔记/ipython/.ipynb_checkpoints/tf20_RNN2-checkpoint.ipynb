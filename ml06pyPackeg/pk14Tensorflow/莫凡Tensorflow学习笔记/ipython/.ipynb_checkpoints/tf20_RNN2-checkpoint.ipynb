{
 "cells": [
  {
   "cell_type": "markdown",
   "metadata": {},
   "source": [
    "# RNN循环神经网络"
   ]
  },
  {
   "cell_type": "code",
   "execution_count": null,
   "metadata": {},
   "outputs": [],
   "source": [
    "import tensorflow as tf\n",
    "from tensorflow.examples.tutorials.mnist import input_data"
   ]
  },
  {
   "cell_type": "code",
   "execution_count": 2,
   "metadata": {},
   "outputs": [],
   "source": [
    "# set random seed for comparing the two result calculations\n",
    "tf.set_random_seed(1)"
   ]
  },
  {
   "cell_type": "code",
   "execution_count": 3,
   "metadata": {},
   "outputs": [
    {
     "name": "stdout",
     "output_type": "stream",
     "text": [
      "WARNING:tensorflow:From <ipython-input-3-9a9e3f94ae62>:2: read_data_sets (from tensorflow.contrib.learn.python.learn.datasets.mnist) is deprecated and will be removed in a future version.\n",
      "Instructions for updating:\n",
      "Please use alternatives such as official/mnist/dataset.py from tensorflow/models.\n",
      "WARNING:tensorflow:From D:\\ProgramData\\Anaconda3\\lib\\site-packages\\tensorflow\\contrib\\learn\\python\\learn\\datasets\\mnist.py:260: maybe_download (from tensorflow.contrib.learn.python.learn.datasets.base) is deprecated and will be removed in a future version.\n",
      "Instructions for updating:\n",
      "Please write your own downloading logic.\n",
      "WARNING:tensorflow:From D:\\ProgramData\\Anaconda3\\lib\\site-packages\\tensorflow\\contrib\\learn\\python\\learn\\datasets\\mnist.py:262: extract_images (from tensorflow.contrib.learn.python.learn.datasets.mnist) is deprecated and will be removed in a future version.\n",
      "Instructions for updating:\n",
      "Please use tf.data to implement this functionality.\n",
      "Extracting MNIST_data\\train-images-idx3-ubyte.gz\n",
      "WARNING:tensorflow:From D:\\ProgramData\\Anaconda3\\lib\\site-packages\\tensorflow\\contrib\\learn\\python\\learn\\datasets\\mnist.py:267: extract_labels (from tensorflow.contrib.learn.python.learn.datasets.mnist) is deprecated and will be removed in a future version.\n",
      "Instructions for updating:\n",
      "Please use tf.data to implement this functionality.\n",
      "Extracting MNIST_data\\train-labels-idx1-ubyte.gz\n",
      "WARNING:tensorflow:From D:\\ProgramData\\Anaconda3\\lib\\site-packages\\tensorflow\\contrib\\learn\\python\\learn\\datasets\\mnist.py:110: dense_to_one_hot (from tensorflow.contrib.learn.python.learn.datasets.mnist) is deprecated and will be removed in a future version.\n",
      "Instructions for updating:\n",
      "Please use tf.one_hot on tensors.\n",
      "Extracting MNIST_data\\t10k-images-idx3-ubyte.gz\n",
      "Extracting MNIST_data\\t10k-labels-idx1-ubyte.gz\n",
      "WARNING:tensorflow:From D:\\ProgramData\\Anaconda3\\lib\\site-packages\\tensorflow\\contrib\\learn\\python\\learn\\datasets\\mnist.py:290: DataSet.__init__ (from tensorflow.contrib.learn.python.learn.datasets.mnist) is deprecated and will be removed in a future version.\n",
      "Instructions for updating:\n",
      "Please use alternatives such as official/mnist/dataset.py from tensorflow/models.\n"
     ]
    }
   ],
   "source": [
    "# this is data\n",
    "mnist = input_data.read_data_sets(\"MNIST_data\", one_hot=True)"
   ]
  },
  {
   "cell_type": "code",
   "execution_count": 4,
   "metadata": {},
   "outputs": [],
   "source": [
    "# hyperparameters 超参数\n",
    "lr = 0.001              # learning rate\n",
    "training_iters = 100000 # train step 上限 循环次数\n",
    "batch_size = 128        # \n",
    "\n",
    "n_inputs = 28           # MNIST data input (image shape:28x28) 指图片一行28像素，RNN每次提取一行\n",
    "n_steps = 28            # time steps 图片有28行 ， 所以rnn提取28次\n",
    "n_hidden_units = 128    # neurons in hidden layer\n",
    "n_classes = 10          # MNIST classes (0-9 digits)"
   ]
  },
  {
   "cell_type": "code",
   "execution_count": 5,
   "metadata": {},
   "outputs": [],
   "source": [
    "# tf Graph input \n",
    "x = tf.placeholder(tf.float32, [None, n_steps, n_inputs])\n",
    "y = tf.placeholder(tf.float32, [None, n_classes])"
   ]
  },
  {
   "cell_type": "code",
   "execution_count": null,
   "metadata": {},
   "outputs": [],
   "source": [
    "# Define weights\n",
    "weights = {\n",
    "    # (28, 128)\n",
    "    \"in\": tf.Variable(tf.random_normal([n_inputs, n_hidden_units])),\n",
    "    # (128, 10)\n",
    "    \"out\": tf.Variable(tf.random_normal([n_hidden_units, n_classes]))\n",
    "}\n",
    "\n",
    "biases = {\n",
    "    # (128, )\n",
    "    \"in\": tf.Variable(tf.constant(0.1, shape=[n_hidden_units, ])),\n",
    "    # (10, )\n",
    "    \"out\": tf.Variable(tf.constant(0.1, shape=[n_classes, ]))\n",
    "}"
   ]
  },
  {
   "cell_type": "code",
   "execution_count": null,
   "metadata": {},
   "outputs": [],
   "source": [
    "def RNN(X, weights, biases):\n",
    "    # hidden layer for input to cell \n",
    "    ####################################\n",
    "    # transpose the inputs shape from X(128 batch, 28 steps, 28 inputs)\n",
    "    # X==> (128 batch * 28 steps, 28 inputs)\n",
    "    # 将batch的输入经过一个送入hidden layer\n",
    "    # 将原始数据batch输入转换[batch*step, input],每个时刻的input大小为batch * step\n",
    "    X = tf.reshape(X, [-1, n_inputs])\n",
    "    \n",
    "    # into hidden\n",
    "    # X_in = (128 batch * 28 steps, 128 hidden)\n",
    "    # 将输入经过一个单层网络， 变成一个[batch*step, hidden], 就是通过变换把input变成hidden\n",
    "    X_in = tf.matmul(X, weights[\"in\"]) + biases[\"in\"]\n",
    "    # X_in ==> (128 batch, 28 steps, 128 hidden)\n",
    "    # 再展开成[batch, step, hidden]\n",
    "    X_in = tf.reshape(X_in, [-1, n_steps, n_hidden_units])\n",
    "    \n",
    "    # cell \n",
    "    ############################################\n",
    "    # basic LSTM Cell\n",
    "    # 定义了一个cell， 一个矩形框是一个cell。一个cell输入可以是多维的\n",
    "    cell = tf.contrib.rnn.BasicLSTMCell(n_hidden_units)\n",
    "    # lstm cell is divided into two parts (c_state, h_state)\n",
    "    # 定义batchs size， 将他的batch用于网络的建立\n",
    "    init_state = cell.zero_state(batch_size, dtype=tf.float32)\n",
    "    \n",
    "    # You have 2 options for following step.\n",
    "    # 1: tf.nn.rnn(cell, inputs);\n",
    "    # 2: tf.nn.dynamic_rnn(cell, inputs).\n",
    "    # If use option 1, you have to modified the shape of X_in, go and check out this:\n",
    "    # https://github.com/aymericdamien/TensorFlow-Examples/blob/master/examples/3_NeuralNetworks/recurrent_network.py\n",
    "    # In here, we go for option 2.\n",
    "    # dynamic_rnn receive Tensor (batch, steps, inputs) or (steps, batch, inputs) as X_in.\n",
    "    # Make sure the time_major is changed accordingly.\n",
    "    outputs, final_state = tf.nn.dynamic_rnn(cell, X_in, initial_state=init_state, time_major=False)\n",
    "    \n",
    "    # hidden layer for output as the final results\n",
    "    #############################################\n",
    "    # 用 final_state,final_state = [c_state, h_state], 用final_state[1] 就是最后一个时刻的输出值了\n",
    "    # results = tf.matmul(final_state[1], weights['out']) + biases['out']\n",
    "    \n",
    "    ## or\n",
    "    # unpack to list [(batch, outputs)..] * steps\n",
    "    # outputs 记录各个隐层的输出值\n",
    "    # 将输出outputs输出[batch, step, hidden],变成[step, batch, hidden]\n",
    "    # 再unstack就是使用outputs[-1] = last_step的[batch, hidden]，可以直接下标访问\n",
    "    # [1,0,2]是告诉tf要如何翻转现有的三维张量，假设原有的张量是[0,1,2]的维度顺序，使用tf.transpose,会将[0,1,2]的0和1维的数据互换维度\n",
    "    outputs = tf.unstack(tf.transpose(outputs, [1,0,2]))\n",
    "    # outputs[-1] = last_step的[batch, hidden] ---> [batch,class]\n",
    "    results = tf.matmul(outputs[-1], weights['out']) + biases['out']    # shape = (128, 10)\n",
    "    return results"
   ]
  },
  {
   "cell_type": "code",
   "execution_count": null,
   "metadata": {},
   "outputs": [],
   "source": [
    "# 调用RNN函数，得到pred为[batch, class]大小的矩阵\n",
    "pred = RNN(x, weights, biases)\n",
    "# 最后的损失函数，里面内容丰富，pred经过一个sofxmax层，再计算实际值和输出值之间的交叉熵，再对batch取平均\n",
    "cost = tf.reduce_mean(tf.nn.softmax_cross_entropy_with_logits(logits=pred, labels=y))\n",
    "# 用adam算法优化\n",
    "train_op = tf.train.AdamOptimizer(lr).minimize(cost)\n",
    "# 沿着行取最大， 得到预测结果，判断两行是否相等，平均得到准确率，直接把预测graph定义到原始graph下，不用额外定义变量\n",
    "correct_pred = tf.equal(tf.argmax(pred, 1), tf.argmax(y, 1))\n",
    "accuracy = tf.reduce_mean(tf.cast(correct_pred, tf.float32))"
   ]
  },
  {
   "cell_type": "code",
   "execution_count": null,
   "metadata": {},
   "outputs": [],
   "source": [
    "with tf.Session() as sess:\n",
    "    init = tf.global_variables_initializer()\n",
    "    sess.run(init)\n",
    "    step = 0\n",
    "    while step * batch_size < training_iters:\n",
    "        batch_xs, batch_ys = mnist.train.next_batch(batch_size)\n",
    "        batch_xs = batch_xs.reshape([batch_size, n_steps, n_inputs])\n",
    "        sess.run([train_op], feed_dict={x: batch_xs,y: batch_ys,})\n",
    "        if step % 20 == 0:\n",
    "            print(sess.run(accuracy, feed_dict={x: batch_xs,y: batch_ys,}))\n",
    "        step += 1\n",
    "\n"
   ]
  }
 ],
 "metadata": {
  "kernelspec": {
   "display_name": "Python 3",
   "language": "python",
   "name": "python3"
  },
  "language_info": {
   "codemirror_mode": {
    "name": "ipython",
    "version": 3
   },
   "file_extension": ".py",
   "mimetype": "text/x-python",
   "name": "python",
   "nbconvert_exporter": "python",
   "pygments_lexer": "ipython3",
   "version": "3.7.1"
  }
 },
 "nbformat": 4,
 "nbformat_minor": 2
}
