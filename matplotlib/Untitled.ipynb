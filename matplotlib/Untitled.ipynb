{
 "cells": [
  {
   "cell_type": "code",
   "execution_count": null,
   "metadata": {},
   "outputs": [],
   "source": [
    "import numpy as np\n",
    "import matplotlib.pyplot as plt\n",
    "from matplotlib import animation\n",
    "\n",
    "# New figure with white background\n",
    "fig = plt.figure(figsize=(6,6), facecolor='white')\n",
    "\n",
    "# New axis over the whole figure, no frame and a 1:1 aspect ratio\n",
    "ax = fig.add_axes([0, 0, 1, 1], frameon=False, aspect=1)\n",
    "\n",
    "# Number of ring\n",
    "n = 50\n",
    "size_min = 50\n",
    "size_max = 50 ** 2\n",
    "\n",
    "# Ring position\n",
    "pos = np.random.uniform(0, 1, (n,2))\n",
    "\n",
    "# Ring colors\n",
    "color = np.ones((n,4)) * (0,0,0,1)\n",
    "# Alpha color channel geos from 0(transparent) to 1(opaque)\n",
    "color[:,3] = np.linspace(0, 1, n)\n",
    "\n",
    "# Ring sizes\n",
    "size = np.linspace(size_min, size_max, n)\n",
    "\n",
    "# Scatter plot\n",
    "scat = ax.scatter(pos[:,0], pos[:,1], s=size, lw=0.5, edgecolors=color, facecolors='None')\n",
    "\n",
    "# Ensure limits are [0,1] and remove ticks\n",
    "ax.set_xlim(0, 1), ax.set_xticks([])\n",
    "ax.set_ylim(0, 1), ax.set_yticks([])\n",
    "\n",
    "def update(frame):\n",
    "    global pos, color, size\n",
    "\n",
    "    # Every ring is made more transparnt\n",
    "    color[:, 3] = np.maximum(0, color[:,3]-1.0/n)\n",
    "\n",
    "    # Each ring is made larger\n",
    "    size += (size_max - size_min) / n\n",
    "\n",
    "    # Reset specific ring\n",
    "    i = frame % 50\n",
    "    pos[i] = np.random.uniform(0, 1, 2)\n",
    "    size[i] = size_min\n",
    "    color[i, 3] = 1\n",
    "\n",
    "    # Update scatter object\n",
    "    scat.set_edgecolors(color)\n",
    "    scat.set_sizes(size)\n",
    "    scat.set_offsets(pos)\n",
    "\n",
    "    # Return the modified object\n",
    "    return scat,\n",
    "\n",
    "anim = animation.FuncAnimation(fig, update, interval=10, blit=True, frames=200)\n",
    "plt.show()"
   ]
  },
  {
   "cell_type": "code",
   "execution_count": 2,
   "metadata": {},
   "outputs": [
    {
     "data": {
      "image/png": "[encoded data removed]",
      "text/plain": [
       "<Figure size 432x288 with 1 Axes>"
      ]
     },
     "metadata": {
      "needs_background": "light"
     },
     "output_type": "display_data"
    }
   ],
   "source": [
    "import numpy as np\n",
    "import matplotlib.pyplot as plt\n",
    "from matplotlib.animation import FuncAnimation\n",
    "\n",
    "fig, ax = plt.subplots()   #生成子图，相当于fig = plt.figure(),ax = fig.add_subplot(),其中ax的函数参数表示把当前画布进行分割，例：fig.add_subplot(2,2,2).表示将画布分割为两行两列\n",
    "#ax在第2个子图中绘制，其中行优先，\n",
    "xdata, ydata = [], []      #初始化两个数组\n",
    "ln, = ax.plot([], [], 'r-', animated=False)  #第三个参数表示画曲线的颜色和线型，具体参见：https://blog.csdn.net/tengqingyong/article/details/78829596\n",
    "\n",
    "def init():\n",
    "    ax.set_xlim(0, 2*np.pi)  #设置x轴的范围pi代表3.14...圆周率，\n",
    "    ax.set_ylim(-1, 1)    #设置y轴的范围\n",
    "    return ln,               #返回曲线\n",
    "\n",
    "def update(n):\n",
    "    xdata.append(n)         #将每次传过来的n追加到xdata中\n",
    "    ydata.append(np.sin(n))\n",
    "    ln.set_data(xdata, ydata)    #重新设置曲线的值\n",
    "    return ln,\n",
    "\n",
    "ani = FuncAnimation(fig, update, frames=np.linspace(0, 2*np.pi, 10),     #这里的frames在调用update函数是会将frames作为实参传递给“n”\n",
    "                    init_func=init, blit=True)\n",
    "plt.show()"
   ]
  },
  {
   "cell_type": "code",
   "execution_count": null,
   "metadata": {},
   "outputs": [],
   "source": [
    "np.linspace(0, 2*np.pi, 10)"
   ]
  },
  {
   "cell_type": "code",
   "execution_count": null,
   "metadata": {},
   "outputs": [],
   "source": [
    "#导入必要的模块  \n",
    "import numpy as np\n",
    "import matplotlib.pyplot as plt "
   ]
  },
  {
   "cell_type": "code",
   "execution_count": null,
   "metadata": {},
   "outputs": [],
   "source": [
    "#产生测试数据 \n",
    "x = np.arange(0, 10, 1) \n",
    "y = x"
   ]
  },
  {
   "cell_type": "code",
   "execution_count": null,
   "metadata": {},
   "outputs": [],
   "source": [
    "fig = plt.figure() \n",
    "ax1 = fig.add_subplot(111) \n",
    "#设置标题 \n",
    "ax1.set_title('Scatter Plot') \n",
    "#设置X轴标签  \n",
    "plt.xlabel('X') \n",
    "#设置Y轴标签  \n",
    "plt.ylabel('Y') \n",
    "#画散点图  \n",
    "sValue = x*20\n",
    "ax1.scatter(x,y,s=sValue,c='r',marker='x') \n",
    "#设置图标  \n",
    "plt.legend('x1') \n",
    "#显示所画的图  \n",
    "plt.show()"
   ]
  },
  {
   "cell_type": "code",
   "execution_count": null,
   "metadata": {},
   "outputs": [],
   "source": []
  },
  {
   "cell_type": "code",
   "execution_count": 75,
   "metadata": {},
   "outputs": [
    {
     "data": {
      "image/png": "[encoded data removed]",
      "text/plain": [
       "<Figure size 432x288 with 1 Axes>"
      ]
     },
     "metadata": {
      "needs_background": "light"
     },
     "output_type": "display_data"
    }
   ],
   "source": [
    "import numpy as np\n",
    "import matplotlib.pyplot as plt\n",
    "from matplotlib.animation import FuncAnimation\n",
    "fig, ax = plt.subplots()\n",
    "xdata, ydata = [0, 1, 2], [0, 1, 1]\n",
    "\n",
    "#ln, = ax.plot(xdata, ydata, 'r-', animated=False,lw = 4)\n",
    "ln, = ax.plot([],[], 'r-', animated=True,lw = 8)\n",
    "#ln, = ax.plot([1],[2], 'rX', animated=True,lw = 4)\n",
    "ln.set_data(xdata, ydata)\n",
    "#ln1 = ax.scatter([],[],s=80,c='r',marker='x') \n",
    "#ln1.remove()\n",
    "#ln1 = ax.scatter([1],[2],s=80,c='r',marker='x') \n",
    "#ln1.set_data([1], [2])\n",
    "#ax.scatter([1],[1],s=80,c='r',marker='x') \n",
    "plt.show()"
   ]
  },
  {
   "cell_type": "code",
   "execution_count": 78,
   "metadata": {},
   "outputs": [
    {
     "data": {
      "image/png": "[encoded data removed]",
      "text/plain": [
       "<Figure size 432x288 with 1 Axes>"
      ]
     },
     "metadata": {
      "needs_background": "light"
     },
     "output_type": "display_data"
    }
   ],
   "source": [
    "import numpy as np\n",
    "import matplotlib.pyplot as plt\n",
    "from matplotlib.animation import FuncAnimation\n",
    "fig = plt.figure()\n",
    "xdata, ydata = [0, 1, 2], [0, 1, 1]\n",
    "\n",
    "ax = plt.axes(xlim=(0, 2), ylim=(-2, 2))\n",
    "\n",
    "ln, = ax.plot(xdata, ydata, 'g', lw = 4)\n",
    "ax.scatter([1], [0], s=80,c='r',marker='x')\n",
    "plt.show()"
   ]
  },
  {
   "cell_type": "code",
   "execution_count": 79,
   "metadata": {},
   "outputs": [
    {
     "data": {
      "text/plain": [
       "3"
      ]
     },
     "execution_count": 79,
     "metadata": {},
     "output_type": "execute_result"
    }
   ],
   "source": [
    "len([0, 1, 2])"
   ]
  },
  {
   "cell_type": "code",
   "execution_count": null,
   "metadata": {},
   "outputs": [],
   "source": []
  }
 ],
 "metadata": {
  "kernelspec": {
   "display_name": "Python 3",
   "language": "python",
   "name": "python3"
  },
  "language_info": {
   "codemirror_mode": {
    "name": "ipython",
    "version": 3
   },
   "file_extension": ".py",
   "mimetype": "text/x-python",
   "name": "python",
   "nbconvert_exporter": "python",
   "pygments_lexer": "ipython3",
   "version": "3.7.1"
  }
 },
 "nbformat": 4,
 "nbformat_minor": 2
}
