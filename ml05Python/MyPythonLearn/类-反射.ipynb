{
 "cells": [
  {
   "cell_type": "code",
   "execution_count": 1,
   "metadata": {},
   "outputs": [],
   "source": [
    "#encoding=utf8\n",
    "class People: \n",
    "    #定义基本属性 \n",
    "    name = '' \n",
    "    age = 0 \n",
    "    #定义私有属性,私有属性在类外部无法直接进行访问 \n",
    "    __weight = 0 \n",
    "    #定义构造方法 \n",
    "    addr='上海'\n",
    "    def __init__(self,n='tom',a=10,w=20): \n",
    "        self.name = n \n",
    "        self.age = a \n",
    "        self.__weight = w \n",
    "        self.score=100\n",
    "        #self.d={'method':'eat','tel':13918948888}\n",
    "        ave=w/a#函数里面的变量,调用完函数后变量消失\n",
    "        \n",
    "    def speak(self): \n",
    "        print(\"%s 说: 我 %d 岁。住在 %s\" %(self.name,self.age,self.addr)) # 访问类变量\n",
    "    def cal_score(self):\n",
    "        ratio=self.age/self.__weight\n",
    "        return ratio\n",
    "    def add_item(self,d,**dict_arg):\n",
    "        d.update(dict_arg)"
   ]
  },
  {
   "cell_type": "code",
   "execution_count": 2,
   "metadata": {},
   "outputs": [],
   "source": [
    "p = People('runoob',100,30) "
   ]
  },
  {
   "cell_type": "code",
   "execution_count": 3,
   "metadata": {},
   "outputs": [
    {
     "name": "stdout",
     "output_type": "stream",
     "text": [
      "100\n"
     ]
    }
   ],
   "source": [
    "age_p=getattr(p, 'age')#访问对象的属性\n",
    "print(age_p)"
   ]
  },
  {
   "cell_type": "code",
   "execution_count": 4,
   "metadata": {},
   "outputs": [
    {
     "name": "stdout",
     "output_type": "stream",
     "text": [
      "True\n"
     ]
    }
   ],
   "source": [
    "has_attr=hasattr(p,'age')# 检查是否存在一个属性\n",
    "print(has_attr)"
   ]
  },
  {
   "cell_type": "code",
   "execution_count": 5,
   "metadata": {},
   "outputs": [],
   "source": [
    "setattr(p,'tel',13013458888)  #设置一个属性。如果属性不存在，会创建一个新属性"
   ]
  },
  {
   "cell_type": "code",
   "execution_count": 6,
   "metadata": {},
   "outputs": [
    {
     "name": "stdout",
     "output_type": "stream",
     "text": [
      "True\n"
     ]
    }
   ],
   "source": [
    "has_tel=hasattr(p,'tel')# 检查是否存在一个属性\n",
    "print(has_tel)"
   ]
  },
  {
   "cell_type": "code",
   "execution_count": 7,
   "metadata": {},
   "outputs": [],
   "source": [
    "p.sex='男'"
   ]
  },
  {
   "cell_type": "code",
   "execution_count": 8,
   "metadata": {},
   "outputs": [
    {
     "name": "stdout",
     "output_type": "stream",
     "text": [
      "男\n"
     ]
    }
   ],
   "source": [
    "sex_p=getattr(p, 'sex')#访问对象的属性\n",
    "print(sex_p)"
   ]
  },
  {
   "cell_type": "code",
   "execution_count": 9,
   "metadata": {},
   "outputs": [
    {
     "name": "stdout",
     "output_type": "stream",
     "text": [
      "0\n"
     ]
    }
   ],
   "source": [
    "delattr(p,'age')\n",
    "print(p.age)"
   ]
  },
  {
   "cell_type": "code",
   "execution_count": null,
   "metadata": {},
   "outputs": [],
   "source": []
  }
 ],
 "metadata": {
  "kernelspec": {
   "display_name": "Python 3",
   "language": "python",
   "name": "python3"
  },
  "language_info": {
   "codemirror_mode": {
    "name": "ipython",
    "version": 3
   },
   "file_extension": ".py",
   "mimetype": "text/x-python",
   "name": "python",
   "nbconvert_exporter": "python",
   "pygments_lexer": "ipython3",
   "version": "3.7.6"
  }
 },
 "nbformat": 4,
 "nbformat_minor": 4
}
