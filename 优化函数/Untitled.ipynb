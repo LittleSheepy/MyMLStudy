{
 "cells": [
  {
   "cell_type": "code",
   "execution_count": 1,
   "metadata": {},
   "outputs": [
    {
     "ename": "SyntaxError",
     "evalue": "invalid character in identifier (<ipython-input-1-d421cf9c5df1>, line 9)",
     "output_type": "error",
     "traceback": [
      "\u001b[1;36m  File \u001b[1;32m\"<ipython-input-1-d421cf9c5df1>\"\u001b[1;36m, line \u001b[1;32m9\u001b[0m\n\u001b[1;33m    data = np.genfromtxt(‘./data/airfoil_self_noise.dat‘, delimiter=‘\\t‘)\u001b[0m\n\u001b[1;37m                         ^\u001b[0m\n\u001b[1;31mSyntaxError\u001b[0m\u001b[1;31m:\u001b[0m invalid character in identifier\n"
     ]
    }
   ],
   "source": [
    "%matplotlib inline\n",
    "from mxnet import nd\n",
    "import numpy as np\n",
    "from mxnet import autograd,gluon,init,nd\n",
    "from mxnet.gluon import nn,data as gdata,loss as gloss\n",
    "import time\n",
    "\n",
    "def get_data():\n",
    "    data = np.genfromtxt(‘./data/airfoil_self_noise.dat‘, delimiter=‘\\t‘)\n",
    "    data = (data - data.mean(axis=0)) / data.std(axis=0)\n",
    "    return nd.array(data[:1500, :-1]), nd.array(data[:1500, -1])\n",
    "\n",
    "features, labels = get_data()\n",
    "features[0]\n",
    "labels[0]\n",
    "\n",
    "# 定义网络\n",
    "def linreg(X,w,b):\n",
    "    return nd.dot(X,w) + b\n",
    "\n",
    "# 平方损失\n",
    "def squared_loss(y_hat,y):\n",
    "    return (y_hat - y.reshape(y_hat.shape))**2/2\n",
    "\n",
    "\n",
    "# 初始化参数\n",
    "def init_momentum_states():\n",
    "    v_w = nd.zeros((features.shape[1], 1))\n",
    "    v_b = nd.zeros(1)\n",
    "    return (v_w, v_b)\n",
    "\n",
    "# params [w,b]\n",
    "# states [v_w,v_b] 初始化状态\n",
    "# hyperparams {‘lr‘:0.02,‘momentum‘:0.5}\n",
    "def sgd_momentum(params, states, hyperparams):\n",
    "    for p, v in zip(params, states):\n",
    "        v[:] = hyperparams[‘momentum‘] * v + hyperparams[‘lr‘] * p.grad\n",
    "        p[:] -= v\n",
    "\n",
    "def train(trainer_fn, states, hyperparams, features, labels,\n",
    "              batch_size=10, num_epochs=2):\n",
    "    # 初始化模型。\n",
    "    net, loss = gb.linreg, gb.squared_loss\n",
    "    w = nd.random.normal(scale=0.01, shape=(features.shape[1], 1))\n",
    "    b = nd.zeros(1)\n",
    "    w.attach_grad()\n",
    "    b.attach_grad()\n",
    "\n",
    "    def eval_loss():\n",
    "        return loss(net(features, w, b), labels).mean().asscalar()\n",
    "\n",
    "    ls = [eval_loss()]\n",
    "    data_iter = gdata.DataLoader(\n",
    "        gdata.ArrayDataset(features, labels), batch_size, shuffle=True)\n",
    "    for _ in range(num_epochs):\n",
    "        start = time.time()\n",
    "        for batch_i, (X, y) in enumerate(data_iter):\n",
    "            with autograd.record():\n",
    "                l = loss(net(X, w, b), y).mean()  # 使用平均损失。\n",
    "            l.backward()\n",
    "            trainer_fn([w, b], states, hyperparams)  # 迭代模型参数。\n",
    "            if (batch_i + 1) * batch_size % 100 == 0:\n",
    "                ls.append(eval_loss())  # 每 100 个样本记录下当前训练误差。\n",
    "    # 打印结果和作图。\n",
    "    print(‘loss: %f, %f sec per epoch‘ % (ls[-1], time.time() - start))\n",
    "    gb.set_figsize()\n",
    "    gb.plt.plot(np.linspace(0, num_epochs, len(ls)), ls)\n",
    "    gb.plt.xlabel(‘epoch‘)\n",
    "    gb.plt.ylabel(‘loss‘)\n",
    "\n",
    "\n",
    "train(trainer_fn=sgd_momentum,states= init_momentum_states(),hyperparams={‘lr‘: 0.02, ‘momentum‘: 0.5}, features=features, labels=labels)\n",
    "\n",
    "train(sgd_momentum,init_momentum_states(),{‘lr‘:0.02,‘momentum‘:0.9},features,labels)\n",
    "\n",
    "train(sgd_momentum,init_momentum_states(),{‘lr‘:0.004,‘momentum‘:0.9},features,labels)"
   ]
  },
  {
   "cell_type": "code",
   "execution_count": null,
   "metadata": {},
   "outputs": [],
   "source": []
  }
 ],
 "metadata": {
  "kernelspec": {
   "display_name": "Python 3",
   "language": "python",
   "name": "python3"
  },
  "language_info": {
   "codemirror_mode": {
    "name": "ipython",
    "version": 3
   },
   "file_extension": ".py",
   "mimetype": "text/x-python",
   "name": "python",
   "nbconvert_exporter": "python",
   "pygments_lexer": "ipython3",
   "version": "3.7.1"
  }
 },
 "nbformat": 4,
 "nbformat_minor": 2
}
