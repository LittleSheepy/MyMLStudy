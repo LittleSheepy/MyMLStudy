{
 "cells": [
  {
   "cell_type": "code",
   "execution_count": 1,
   "metadata": {},
   "outputs": [
    {
     "ename": "NameError",
     "evalue": "name 'aa' is not defined",
     "output_type": "error",
     "traceback": [
      "\u001b[1;31m---------------------------------------------------------------------------\u001b[0m",
      "\u001b[1;31mNameError\u001b[0m                                 Traceback (most recent call last)",
      "\u001b[1;32m<ipython-input-1-0a214a392dfc>\u001b[0m in \u001b[0;36m<module>\u001b[1;34m\u001b[0m\n\u001b[1;32m----> 1\u001b[1;33m \u001b[1;32mif\u001b[0m \u001b[1;32mnot\u001b[0m \u001b[0maa\u001b[0m \u001b[1;33m:\u001b[0m\u001b[0mprint\u001b[0m\u001b[1;33m(\u001b[0m\u001b[1;34m\"123\"\u001b[0m\u001b[1;33m)\u001b[0m\u001b[1;33m\u001b[0m\u001b[1;33m\u001b[0m\u001b[0m\n\u001b[0m",
      "\u001b[1;31mNameError\u001b[0m: name 'aa' is not defined"
     ]
    }
   ],
   "source": [
    "if not aa :print(\"123\")"
   ]
  },
  {
   "cell_type": "code",
   "execution_count": 10,
   "metadata": {},
   "outputs": [
    {
     "data": {
      "text/plain": [
       "False"
      ]
     },
     "execution_count": 10,
     "metadata": {},
     "output_type": "execute_result"
    }
   ],
   "source": [
    "testvar in dir()"
   ]
  },
  {
   "cell_type": "code",
   "execution_count": 11,
   "metadata": {},
   "outputs": [],
   "source": [
    "testvar = 1"
   ]
  },
  {
   "cell_type": "code",
   "execution_count": 12,
   "metadata": {},
   "outputs": [
    {
     "data": {
      "text/plain": [
       "False"
      ]
     },
     "execution_count": 12,
     "metadata": {},
     "output_type": "execute_result"
    }
   ],
   "source": [
    "testvar in locals().keys()"
   ]
  },
  {
   "cell_type": "code",
   "execution_count": 15,
   "metadata": {},
   "outputs": [
    {
     "data": {
      "text/plain": [
       "{'__name__': '__main__',\n",
       " '__doc__': 'Automatically created module for IPython interactive environment',\n",
       " '__package__': None,\n",
       " '__loader__': None,\n",
       " '__spec__': None,\n",
       " '__builtin__': <module 'builtins' (built-in)>,\n",
       " '__builtins__': <module 'builtins' (built-in)>,\n",
       " '_ih': ['',\n",
       "  'if not aa :print(\"123\")',\n",
       "  \"'testvar'   in   dir()\",\n",
       "  \"'testvar'   in   dir()\",\n",
       "  'testvar   in   dir()',\n",
       "  'testvar = 1',\n",
       "  'testvar   in   dir()',\n",
       "  'testvar in dir()',\n",
       "  'testvar = 1',\n",
       "  'testvar in locals().keys()',\n",
       "  'testvar in dir()',\n",
       "  'testvar = 1',\n",
       "  'testvar in locals().keys()',\n",
       "  \"vars().has_key('testvar')\",\n",
       "  'vars().has_key(testvar)',\n",
       "  'vars()'],\n",
       " '_oh': {2: False,\n",
       "  3: False,\n",
       "  6: False,\n",
       "  7: False,\n",
       "  9: False,\n",
       "  10: False,\n",
       "  12: False},\n",
       " '_dh': ['F:\\\\MyGitHub\\\\MyMLStudy'],\n",
       " 'In': ['',\n",
       "  'if not aa :print(\"123\")',\n",
       "  \"'testvar'   in   dir()\",\n",
       "  \"'testvar'   in   dir()\",\n",
       "  'testvar   in   dir()',\n",
       "  'testvar = 1',\n",
       "  'testvar   in   dir()',\n",
       "  'testvar in dir()',\n",
       "  'testvar = 1',\n",
       "  'testvar in locals().keys()',\n",
       "  'testvar in dir()',\n",
       "  'testvar = 1',\n",
       "  'testvar in locals().keys()',\n",
       "  \"vars().has_key('testvar')\",\n",
       "  'vars().has_key(testvar)',\n",
       "  'vars()'],\n",
       " 'Out': {2: False,\n",
       "  3: False,\n",
       "  6: False,\n",
       "  7: False,\n",
       "  9: False,\n",
       "  10: False,\n",
       "  12: False},\n",
       " 'get_ipython': <bound method InteractiveShell.get_ipython of <ipykernel.zmqshell.ZMQInteractiveShell object at 0x0000020F35AE1F28>>,\n",
       " 'exit': <IPython.core.autocall.ZMQExitAutocall at 0x20f366d6e10>,\n",
       " 'quit': <IPython.core.autocall.ZMQExitAutocall at 0x20f366d6e10>,\n",
       " '_': False,\n",
       " '__': False,\n",
       " '___': False,\n",
       " '_i': 'vars().has_key(testvar)',\n",
       " '_ii': \"vars().has_key('testvar')\",\n",
       " '_iii': 'testvar in locals().keys()',\n",
       " '_i1': 'if not aa :print(\"123\")',\n",
       " '_i2': \"'testvar'   in   dir()\",\n",
       " '_2': False,\n",
       " '_i3': \"'testvar'   in   dir()\",\n",
       " '_3': False,\n",
       " '_i4': 'testvar   in   dir()',\n",
       " '_i5': 'testvar = 1',\n",
       " 'testvar': 1,\n",
       " '_i6': 'testvar   in   dir()',\n",
       " '_6': False,\n",
       " '_i7': 'testvar in dir()',\n",
       " '_7': False,\n",
       " '_i8': 'testvar = 1',\n",
       " '_i9': 'testvar in locals().keys()',\n",
       " '_9': False,\n",
       " '_i10': 'testvar in dir()',\n",
       " '_10': False,\n",
       " '_i11': 'testvar = 1',\n",
       " '_i12': 'testvar in locals().keys()',\n",
       " '_12': False,\n",
       " '_i13': \"vars().has_key('testvar')\",\n",
       " '_i14': 'vars().has_key(testvar)',\n",
       " '_i15': 'vars()'}"
      ]
     },
     "execution_count": 15,
     "metadata": {},
     "output_type": "execute_result"
    }
   ],
   "source": [
    "vars()"
   ]
  },
  {
   "cell_type": "code",
   "execution_count": 16,
   "metadata": {},
   "outputs": [
    {
     "data": {
      "text/plain": [
       "True"
      ]
     },
     "execution_count": 16,
     "metadata": {},
     "output_type": "execute_result"
    }
   ],
   "source": [
    "'testvar' in dir()"
   ]
  },
  {
   "cell_type": "code",
   "execution_count": 17,
   "metadata": {},
   "outputs": [
    {
     "ename": "NameError",
     "evalue": "name 'c' is not defined",
     "output_type": "error",
     "traceback": [
      "\u001b[1;31m---------------------------------------------------------------------------\u001b[0m",
      "\u001b[1;31mNameError\u001b[0m                                 Traceback (most recent call last)",
      "\u001b[1;32m<ipython-input-17-1579d7c2b0ed>\u001b[0m in \u001b[0;36m<module>\u001b[1;34m\u001b[0m\n\u001b[1;32m----> 1\u001b[1;33m \u001b[0ma\u001b[0m \u001b[1;33m=\u001b[0m \u001b[1;36m8\u001b[0m \u001b[1;32mif\u001b[0m \u001b[1;32mnot\u001b[0m \u001b[0mc\u001b[0m \u001b[1;32melse\u001b[0m \u001b[0mc\u001b[0m\u001b[1;33m\u001b[0m\u001b[1;33m\u001b[0m\u001b[0m\n\u001b[0m",
      "\u001b[1;31mNameError\u001b[0m: name 'c' is not defined"
     ]
    }
   ],
   "source": [
    "a = 8 if not c else c"
   ]
  },
  {
   "cell_type": "code",
   "execution_count": 23,
   "metadata": {},
   "outputs": [
    {
     "data": {
      "text/plain": [
       "0"
      ]
     },
     "execution_count": 23,
     "metadata": {},
     "output_type": "execute_result"
    }
   ],
   "source": [
    "d = 0 if not 'd' in dir() or not d else a\n",
    "d"
   ]
  },
  {
   "cell_type": "code",
   "execution_count": 3,
   "metadata": {},
   "outputs": [
    {
     "name": "stderr",
     "output_type": "stream",
     "text": [
      "100%|█████████████████████████████████████████████████████████████████████████████| 100/100 [00:00<00:00, 99745.64it/s]\n"
     ]
    }
   ],
   "source": [
    "from tqdm import trange\n",
    "for i in trange(100):\n",
    "    #do something\n",
    "    pass"
   ]
  },
  {
   "cell_type": "code",
   "execution_count": null,
   "metadata": {},
   "outputs": [],
   "source": []
  }
 ],
 "metadata": {
  "kernelspec": {
   "display_name": "Python 3",
   "language": "python",
   "name": "python3"
  },
  "language_info": {
   "codemirror_mode": {
    "name": "ipython",
    "version": 3
   },
   "file_extension": ".py",
   "mimetype": "text/x-python",
   "name": "python",
   "nbconvert_exporter": "python",
   "pygments_lexer": "ipython3",
   "version": "3.7.3"
  }
 },
 "nbformat": 4,
 "nbformat_minor": 2
}
